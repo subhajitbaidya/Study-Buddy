{
 "cells": [
  {
   "cell_type": "markdown",
   "id": "21ccbfcb",
   "metadata": {},
   "source": [
    "Creating LLM Instance"
   ]
  },
  {
   "cell_type": "code",
   "execution_count": 120,
   "id": "376c6872",
   "metadata": {},
   "outputs": [],
   "source": [
    "import os\n",
    "from dotenv import load_dotenv\n",
    "from langchain_ollama import ChatOllama\n",
    "\n",
    "model = os.getenv('MODEL_NAME')\n",
    "\n",
    "load_dotenv()\n",
    "\n",
    "llm = ChatOllama(\n",
    "    model=model,\n",
    "    temperature=0.2,\n",
    "    num_predict=256,\n",
    ")"
   ]
  },
  {
   "cell_type": "markdown",
   "id": "aee939b5",
   "metadata": {},
   "source": [
    "Defining Prompt Template and LLM Chain"
   ]
  },
  {
   "cell_type": "code",
   "execution_count": null,
   "id": "5176007d",
   "metadata": {},
   "outputs": [
    {
     "name": "stdout",
     "output_type": "stream",
     "text": [
      "\n",
      "\n",
      "Mumbai is a vibrant metropolis known for its bustling economy, rich cultural heritage, and iconic skyline, blending historic neighborhoods with modern business districts and a thriving food culture.\n"
     ]
    }
   ],
   "source": [
    "from langchain_core.prompts import PromptTemplate\n",
    "from langchain_core.output_parsers import StrOutputParser\n",
    "\n",
    "prompt_template = PromptTemplate(\n",
    "    input_variables=['city'],\n",
    "    template=\"Write down one sentence that best describes the city {city}\"\n",
    ")\n",
    "\n",
    "# Default input\n",
    "prompt_template.format(city='New Delhi')\n",
    "\n",
    "# Langchain pipeline or LLM Chain\n",
    "chain = prompt_template | llm | StrOutputParser()\n",
    "\n",
    "result = chain.invoke(\"Mumbai\")\n",
    "\n",
    "output = result.split(\"</think>\")[1]\n",
    "\n",
    "print(output)"
   ]
  },
  {
   "cell_type": "markdown",
   "id": "eb879d32",
   "metadata": {},
   "source": [
    "Simple Sequential Chain\n",
    "\n",
    "Problem Statement: 5 Places to Visit in the defined City\n",
    "\n"
   ]
  },
  {
   "cell_type": "code",
   "execution_count": null,
   "id": "0c9408ce",
   "metadata": {},
   "outputs": [],
   "source": [
    "from langchain_core.runnables import RunnableSequence\n",
    "from langchain.prompts import PromptTemplate\n",
    "\n",
    "chain "
   ]
  }
 ],
 "metadata": {
  "kernelspec": {
   "display_name": "venv",
   "language": "python",
   "name": "python3"
  },
  "language_info": {
   "codemirror_mode": {
    "name": "ipython",
    "version": 3
   },
   "file_extension": ".py",
   "mimetype": "text/x-python",
   "name": "python",
   "nbconvert_exporter": "python",
   "pygments_lexer": "ipython3",
   "version": "3.13.5"
  }
 },
 "nbformat": 4,
 "nbformat_minor": 5
}
